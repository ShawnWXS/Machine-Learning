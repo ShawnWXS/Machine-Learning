{
 "cells": [
  {
   "cell_type": "markdown",
   "metadata": {},
   "source": [
    "加载必要的包，本例利用sklearn自带的花卉数据集iris"
   ]
  },
  {
   "cell_type": "code",
   "execution_count": 134,
   "metadata": {},
   "outputs": [],
   "source": [
    "import numpy as np\n",
    "from sklearn.model_selection import train_test_split\n",
    "from sklearn.datasets import load_iris"
   ]
  },
  {
   "cell_type": "markdown",
   "metadata": {},
   "source": [
    "加载数据"
   ]
  },
  {
   "cell_type": "code",
   "execution_count": 135,
   "metadata": {},
   "outputs": [],
   "source": [
    "iris = load_iris()"
   ]
  },
  {
   "cell_type": "code",
   "execution_count": 136,
   "metadata": {},
   "outputs": [
    {
     "data": {
      "text/plain": [
       "array([[5.1, 3.5, 1.4, 0.2],\n",
       "       [4.9, 3. , 1.4, 0.2],\n",
       "       [4.7, 3.2, 1.3, 0.2],\n",
       "       [4.6, 3.1, 1.5, 0.2],\n",
       "       [5. , 3.6, 1.4, 0.2]])"
      ]
     },
     "execution_count": 136,
     "metadata": {},
     "output_type": "execute_result"
    }
   ],
   "source": [
    "# 数据中前五个样例的属性向量\n",
    "iris.data[:5]"
   ]
  },
  {
   "cell_type": "code",
   "execution_count": 137,
   "metadata": {},
   "outputs": [
    {
     "data": {
      "text/plain": [
       "array([0, 0, 0, 0, 0])"
      ]
     },
     "execution_count": 137,
     "metadata": {},
     "output_type": "execute_result"
    }
   ],
   "source": [
    "# 对应的标签\n",
    "iris.target[:5]"
   ]
  },
  {
   "cell_type": "code",
   "execution_count": 138,
   "metadata": {},
   "outputs": [],
   "source": [
    "X = iris.data[:100]      #iris数据总共有三类，每类50个样本，我们只取前两类做二分类任务 \n",
    "y = iris.target[:100]\n",
    "y = np.where(y == 1, 1, -1) #把原始标签由（0，1）调整为（-1，1）"
   ]
  },
  {
   "cell_type": "markdown",
   "metadata": {},
   "source": [
    "划分数据"
   ]
  },
  {
   "cell_type": "code",
   "execution_count": 139,
   "metadata": {},
   "outputs": [],
   "source": [
    "X_train, X_test, y_train, y_test = train_test_split(X, y, test_size=0.4)"
   ]
  },
  {
   "cell_type": "markdown",
   "metadata": {},
   "source": [
    "原始形式"
   ]
  },
  {
   "cell_type": "code",
   "execution_count": 140,
   "metadata": {},
   "outputs": [
    {
     "name": "stdout",
     "output_type": "stream",
     "text": [
      " Epoch: [0] Train_Error: 7 Acc: 1.0000\n",
      " Epoch: [1] Train_Error: 0 Acc: 1.0000\n",
      " Epoch: [2] Train_Error: 0 Acc: 1.0000\n",
      " Epoch: [3] Train_Error: 0 Acc: 1.0000\n",
      " Epoch: [4] Train_Error: 0 Acc: 1.0000\n"
     ]
    }
   ],
   "source": [
    "def evaluation(X,y,w,b):\n",
    "    p = np.dot(X, w) + b\n",
    "    pred = np.where(p <= 0.0, -1, 1)\n",
    "    ture_num = (pred==y).sum()\n",
    "    total_num = X.shape[0]\n",
    "    acc = 1.0*ture_num / total_num\n",
    "    return acc\n",
    "def PerceptronBase(X,y,eta,epoch):\n",
    "    w = np.zeros(X.shape[1])\n",
    "    b = 0\n",
    "    errors = []\n",
    "    for i in range(epoch):\n",
    "        error = 0\n",
    "        for xi, yi in zip(X, y):            \n",
    "            p = np.dot(xi, w) + b\n",
    "            if p*yi<=0:     #当预测错误的时候更新参数\n",
    "                deta_w = yi*xi*eta\n",
    "                deta_b = yi*eta\n",
    "                w += deta_w\n",
    "                b += deta_b\n",
    "                error += 1\n",
    "                \n",
    "        errors.append(error)\n",
    "        acc = evaluation(X_test,y_test,w,b)\n",
    "        info = ' Epoch: [{0}] Train_Error: {erro_:d} Acc: {acc_:.4f}'.format(i,erro_=error,acc_=acc)\n",
    "        print(info)\n",
    "    return w,b\n",
    "w,b = PerceptronBase(X_train,y_train,0.01,5)"
   ]
  },
  {
   "cell_type": "markdown",
   "metadata": {},
   "source": [
    "对偶形式"
   ]
  },
  {
   "cell_type": "code",
   "execution_count": 141,
   "metadata": {},
   "outputs": [
    {
     "name": "stdout",
     "output_type": "stream",
     "text": [
      " Epoch: [0] Train_Error: 60 Acc: 0.5000\n",
      " Epoch: [1] Train_Error: 30 Acc: 0.5000\n",
      " Epoch: [2] Train_Error: 30 Acc: 0.5000\n",
      " Epoch: [3] Train_Error: 30 Acc: 0.5000\n",
      " Epoch: [4] Train_Error: 30 Acc: 0.5000\n"
     ]
    }
   ],
   "source": [
    "def PerceptronDual(X,y,eta,epoch):\n",
    "    n_samples, n_features = X.shape\n",
    "    alpha, b = [0] * n_samples, 0\n",
    "    w = np.zeros(n_features)\n",
    "    i = 0\n",
    "\n",
    "    for i in range(epoch):\n",
    "        error = 0\n",
    "        for j in range(n_samples):\n",
    "            p = np.dot(X[j], w) + b\n",
    "            if p*y[j]<=0:\n",
    "                alpha[j] += 1 \n",
    "                error+=1\n",
    "        alpha_npy = np.array(alpha)[:,np.newaxis]\n",
    "        y_npy = y[:,np.newaxis]\n",
    "        w = (alpha_npy* X * y_npy).sum(0)*eta\n",
    "        b = (alpha_npy* y_npy).sum(0)*eta\n",
    "        acc = evaluation(X_test,y_test,w,b)\n",
    "        info = ' Epoch: [{0}] Train_Error: {erro_:d} Acc: {acc_:.4f}'.format(i,erro_=error,acc_=acc)\n",
    "        print(info)\n",
    "    return w,b\n",
    "w,b = PerceptronDual(X_train,y_train,0.01,5) \n",
    "\n",
    "    "
   ]
  }
 ],
 "metadata": {
  "kernelspec": {
   "display_name": "Python 3",
   "language": "python",
   "name": "python3"
  },
  "language_info": {
   "codemirror_mode": {
    "name": "ipython",
    "version": 3
   },
   "file_extension": ".py",
   "mimetype": "text/x-python",
   "name": "python",
   "nbconvert_exporter": "python",
   "pygments_lexer": "ipython3",
   "version": "3.7.3"
  }
 },
 "nbformat": 4,
 "nbformat_minor": 2
}
